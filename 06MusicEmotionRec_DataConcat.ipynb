{
 "cells": [
  {
   "cell_type": "code",
   "execution_count": 1,
   "metadata": {},
   "outputs": [],
   "source": [
    "# imports\n",
    "# packages used\n",
    "import librosa\n",
    "import os \n",
    "\n",
    "import math\n",
    "import numpy as np\n",
    "import pandas as pd\n",
    "import ast\n",
    "import re\n",
    "\n",
    "import dask.array as da\n",
    "# from sklearn.model_selection import train_test_split\n",
    "\n",
    "# import torch\n",
    "# import torch.nn as nn\n",
    "# import torch.nn.functional as F\n",
    "# import torch.optim as optim\n",
    "\n",
    "# from tqdm.notebook import tqdm, trange\n",
    "# from torch.utils.data import Dataset, DataLoader\n",
    "\n",
    "# import matplotlib.pyplot as plt"
   ]
  },
  {
   "cell_type": "code",
   "execution_count": 2,
   "metadata": {},
   "outputs": [
    {
     "name": "stdout",
     "output_type": "stream",
     "text": [
      "(4866, 204, 1000)\n"
     ]
    }
   ],
   "source": [
    "file_path_1 = \"mtg-jamendo-dataset/prepare_data/data_01_X.npy\"\n",
    "file_path_2 = \"mtg-jamendo-dataset/prepare_data/data_02_X.npy\"\n",
    "file_path_3 = \"mtg-jamendo-dataset/prepare_data/data_03_X.npy\"\n",
    "file_path_4 = \"mtg-jamendo-dataset/prepare_data/data_04_X.npy\"\n",
    "file_path_5 = \"mtg-jamendo-dataset/prepare_data/data_05_X.npy\"\n",
    "\n",
    "files = [file_path_1, file_path_2, file_path_3, file_path_4, file_path_5]\n",
    "arr_1 = [np.load(file) for file in files]\n",
    "stacked_arr_1 = np.vstack(arr_1)\n",
    "print(stacked_arr_1.shape)\n",
    "\n",
    "# Create a list of lazy Dask arrays from .npy files\n",
    "# dask_arrays = [da.from_array(np.load(f\"mtg-jamendo-dataset/prepare_data/data_0{i}_X.npy\", mmap_mode='r'), chunks='auto') for i in range(1, 10, 1)]\n",
    "\n",
    "# Concatenate the arrays into one large Dask array\n",
    "# large_dask_array = da.concatenate(dask_arrays, axis=0)"
   ]
  },
  {
   "cell_type": "code",
   "execution_count": 10,
   "metadata": {},
   "outputs": [
    {
     "name": "stdout",
     "output_type": "stream",
     "text": [
      "4866\n"
     ]
    }
   ],
   "source": [
    "file_1 = \"mtg-jamendo-dataset/prepare_data/data_01_y.npy\"\n",
    "file_2 = \"mtg-jamendo-dataset/prepare_data/data_02_y.npy\"\n",
    "file_3 = \"mtg-jamendo-dataset/prepare_data/data_03_y.npy\"\n",
    "file_4 = \"mtg-jamendo-dataset/prepare_data/data_04_y.npy\"\n",
    "file_5 = \"mtg-jamendo-dataset/prepare_data/data_05_y.npy\"\n",
    "\n",
    "files_y_1 = [file_1, file_2, file_3, file_4, file_5]\n",
    "arr_y_1 = [np.load(file, allow_pickle=True) for file in files_y_1]\n",
    "flat_y_1 = []\n",
    "for sub in arr_y_1:\n",
    "    flat_y_1.extend(sub)\n",
    "print(len(flat_y_1))"
   ]
  },
  {
   "cell_type": "code",
   "execution_count": 11,
   "metadata": {},
   "outputs": [],
   "source": [
    "# store first 5 groups\n",
    "np.save(\"mtg-jamendo-dataset/prepare_data/stack_data_01_X.npy\", stacked_arr_1)\n",
    "np.save(\"mtg-jamendo-dataset/prepare_data/stack_data_01_y.npy\", np.array(flat_y_1))"
   ]
  },
  {
   "cell_type": "code",
   "execution_count": 5,
   "metadata": {},
   "outputs": [
    {
     "name": "stdout",
     "output_type": "stream",
     "text": [
      "(4597, 204, 1000)\n"
     ]
    }
   ],
   "source": [
    "# part 2\n",
    "file_path_6 = \"mtg-jamendo-dataset/prepare_data/data_06_X.npy\"\n",
    "file_path_7 = \"mtg-jamendo-dataset/prepare_data/data_07_X.npy\"\n",
    "file_path_8 = \"mtg-jamendo-dataset/prepare_data/data_08_X.npy\"\n",
    "file_path_9 = \"mtg-jamendo-dataset/prepare_data/data_09_X.npy\"\n",
    "file_path_10 = \"mtg-jamendo-dataset/prepare_data/data_10_X.npy\"\n",
    "\n",
    "files = [file_path_6, file_path_7, file_path_8, file_path_9, file_path_10]\n",
    "arr_2 = [np.load(file) for file in files]\n",
    "stacked_arr_2 = np.vstack(arr_2)\n",
    "print(stacked_arr_2.shape)"
   ]
  },
  {
   "cell_type": "code",
   "execution_count": 6,
   "metadata": {},
   "outputs": [
    {
     "name": "stdout",
     "output_type": "stream",
     "text": [
      "4597\n"
     ]
    }
   ],
   "source": [
    "file_6 = \"mtg-jamendo-dataset/prepare_data/data_06_y.npy\"\n",
    "file_7 = \"mtg-jamendo-dataset/prepare_data/data_07_y.npy\"\n",
    "file_8 = \"mtg-jamendo-dataset/prepare_data/data_08_y.npy\"\n",
    "file_9 = \"mtg-jamendo-dataset/prepare_data/data_09_y.npy\"\n",
    "file_10 = \"mtg-jamendo-dataset/prepare_data/data_10_y.npy\"\n",
    "\n",
    "files_y_2 = [file_6, file_7, file_8, file_9, file_10]\n",
    "arr_y_2 = [np.load(file, allow_pickle=True) for file in files_y_2]\n",
    "flat_y_2 = []\n",
    "for sub in arr_y_2:\n",
    "    flat_y_2.extend(sub)\n",
    "print(len(flat_y_2))"
   ]
  },
  {
   "cell_type": "code",
   "execution_count": 7,
   "metadata": {},
   "outputs": [],
   "source": [
    "# store first 5 groups\n",
    "np.save(\"mtg-jamendo-dataset/prepare_data/stack_data_02_X.npy\", stacked_arr_2)\n",
    "np.save(\"mtg-jamendo-dataset/prepare_data/stack_data_02_y.npy\", np.array(flat_y_2))"
   ]
  },
  {
   "cell_type": "code",
   "execution_count": 8,
   "metadata": {},
   "outputs": [
    {
     "name": "stdout",
     "output_type": "stream",
     "text": [
      "(4557, 204, 1000)\n"
     ]
    }
   ],
   "source": [
    "# part 3\n",
    "file_path_11 = \"mtg-jamendo-dataset/prepare_data/data_11_X.npy\"\n",
    "file_path_12 = \"mtg-jamendo-dataset/prepare_data/data_12_X.npy\"\n",
    "file_path_13 = \"mtg-jamendo-dataset/prepare_data/data_13_X.npy\"\n",
    "file_path_14 = \"mtg-jamendo-dataset/prepare_data/data_14_X.npy\"\n",
    "file_path_15 = \"mtg-jamendo-dataset/prepare_data/data_15_X.npy\"\n",
    "\n",
    "files = [file_path_11, file_path_12, file_path_13, file_path_14, file_path_15]\n",
    "arr_3 = [np.load(file) for file in files]\n",
    "stacked_arr_3 = np.vstack(arr_3)\n",
    "print(stacked_arr_3.shape)"
   ]
  },
  {
   "cell_type": "code",
   "execution_count": 9,
   "metadata": {},
   "outputs": [
    {
     "name": "stdout",
     "output_type": "stream",
     "text": [
      "4557\n"
     ]
    }
   ],
   "source": [
    "file_11 = \"mtg-jamendo-dataset/prepare_data/data_11_y.npy\"\n",
    "file_12 = \"mtg-jamendo-dataset/prepare_data/data_12_y.npy\"\n",
    "file_13 = \"mtg-jamendo-dataset/prepare_data/data_13_y.npy\"\n",
    "file_14 = \"mtg-jamendo-dataset/prepare_data/data_14_y.npy\"\n",
    "file_15 = \"mtg-jamendo-dataset/prepare_data/data_15_y.npy\"\n",
    "\n",
    "files_y_3 = [file_11, file_12, file_13, file_14, file_15]\n",
    "arr_y_3 = [np.load(file, allow_pickle=True) for file in files_y_3]\n",
    "flat_y_3 = []\n",
    "for sub in arr_y_3:\n",
    "    flat_y_3.extend(sub)\n",
    "print(len(flat_y_3))"
   ]
  },
  {
   "cell_type": "code",
   "execution_count": 10,
   "metadata": {},
   "outputs": [],
   "source": [
    "# store first 5 groups\n",
    "np.save(\"mtg-jamendo-dataset/prepare_data/stack_data_03_X.npy\", stacked_arr_3)\n",
    "np.save(\"mtg-jamendo-dataset/prepare_data/stack_data_03_y.npy\", np.array(flat_y_3))"
   ]
  },
  {
   "cell_type": "code",
   "execution_count": 2,
   "metadata": {},
   "outputs": [
    {
     "name": "stdout",
     "output_type": "stream",
     "text": [
      "(14020, 204, 1000)\n"
     ]
    }
   ],
   "source": [
    "# combine three \n",
    "d1 = np.load(\"mtg-jamendo-dataset/prepare_data/stack_data_01_X.npy\")\n",
    "d2 = np.load(\"mtg-jamendo-dataset/prepare_data/stack_data_02_X.npy\")\n",
    "d3 = np.load(\"mtg-jamendo-dataset/prepare_data/stack_data_03_X.npy\")\n",
    "stack = np.vstack([d1, d2, d3])\n",
    "print(stack.shape)"
   ]
  },
  {
   "cell_type": "code",
   "execution_count": 3,
   "metadata": {},
   "outputs": [
    {
     "name": "stdout",
     "output_type": "stream",
     "text": [
      "14020\n"
     ]
    }
   ],
   "source": [
    "d1_y = np.load(\"mtg-jamendo-dataset/prepare_data/stack_data_01_y.npy\")\n",
    "d2_y = np.load(\"mtg-jamendo-dataset/prepare_data/stack_data_02_y.npy\")\n",
    "d3_y = np.load(\"mtg-jamendo-dataset/prepare_data/stack_data_03_y.npy\")\n",
    "stack_y = []\n",
    "for sub in [d1_y, d2_y, d3_y]:\n",
    "    stack_y.extend(sub)\n",
    "print(len(stack_y))"
   ]
  },
  {
   "cell_type": "code",
   "execution_count": 4,
   "metadata": {},
   "outputs": [],
   "source": [
    "np.save(\"mtg-jamendo-dataset/prepare_data/large_X.npy\", stack)\n",
    "np.save(\"mtg-jamendo-dataset/prepare_data/large_y.npy\", np.array(stack_y))"
   ]
  },
  {
   "cell_type": "code",
   "execution_count": 2,
   "metadata": {},
   "outputs": [],
   "source": [
    "X = np.load(\"mtg-jamendo-dataset/prepare_data/large_X.npy\")\n",
    "y = np.load(\"mtg-jamendo-dataset/prepare_data/large_y.npy\")"
   ]
  },
  {
   "cell_type": "code",
   "execution_count": 3,
   "metadata": {},
   "outputs": [
    {
     "name": "stdout",
     "output_type": "stream",
     "text": [
      "(14020, 204, 1000)\n",
      "(14020,)\n"
     ]
    }
   ],
   "source": [
    "print(X.shape)\n",
    "print(y.shape)"
   ]
  },
  {
   "cell_type": "markdown",
   "metadata": {},
   "source": [
    "## Original 8071 timesteps"
   ]
  },
  {
   "cell_type": "code",
   "execution_count": 17,
   "metadata": {},
   "outputs": [
    {
     "data": {
      "text/html": [
       "<table>\n",
       "    <tr>\n",
       "        <td>\n",
       "            <table style=\"border-collapse: collapse;\">\n",
       "                <thead>\n",
       "                    <tr>\n",
       "                        <td> </td>\n",
       "                        <th> Array </th>\n",
       "                        <th> Chunk </th>\n",
       "                    </tr>\n",
       "                </thead>\n",
       "                <tbody>\n",
       "                    \n",
       "                    <tr>\n",
       "                        <th> Bytes </th>\n",
       "                        <td> 104.85 GiB </td>\n",
       "                        <td> 127.31 MiB </td>\n",
       "                    </tr>\n",
       "                    \n",
       "                    <tr>\n",
       "                        <th> Shape </th>\n",
       "                        <td> (8547, 204, 8071) </td>\n",
       "                        <td> (286, 204, 286) </td>\n",
       "                    </tr>\n",
       "                    <tr>\n",
       "                        <th> Dask graph </th>\n",
       "                        <td colspan=\"2\"> 1044 chunks in 19 graph layers </td>\n",
       "                    </tr>\n",
       "                    <tr>\n",
       "                        <th> Data type </th>\n",
       "                        <td colspan=\"2\"> float64 numpy.ndarray </td>\n",
       "                    </tr>\n",
       "                </tbody>\n",
       "            </table>\n",
       "        </td>\n",
       "        <td>\n",
       "        <svg width=\"243\" height=\"150\" style=\"stroke:rgb(0,0,0);stroke-width:1\" >\n",
       "\n",
       "  <!-- Horizontal lines -->\n",
       "  <line x1=\"10\" y1=\"0\" x2=\"80\" y2=\"70\" style=\"stroke-width:2\" />\n",
       "  <line x1=\"10\" y1=\"30\" x2=\"80\" y2=\"100\" style=\"stroke-width:2\" />\n",
       "\n",
       "  <!-- Vertical lines -->\n",
       "  <line x1=\"10\" y1=\"0\" x2=\"10\" y2=\"30\" style=\"stroke-width:2\" />\n",
       "  <line x1=\"12\" y1=\"2\" x2=\"12\" y2=\"32\" />\n",
       "  <line x1=\"17\" y1=\"7\" x2=\"17\" y2=\"37\" />\n",
       "  <line x1=\"20\" y1=\"10\" x2=\"20\" y2=\"40\" />\n",
       "  <line x1=\"25\" y1=\"15\" x2=\"25\" y2=\"45\" />\n",
       "  <line x1=\"28\" y1=\"18\" x2=\"28\" y2=\"48\" />\n",
       "  <line x1=\"33\" y1=\"23\" x2=\"33\" y2=\"53\" />\n",
       "  <line x1=\"36\" y1=\"26\" x2=\"36\" y2=\"56\" />\n",
       "  <line x1=\"41\" y1=\"31\" x2=\"41\" y2=\"61\" />\n",
       "  <line x1=\"44\" y1=\"34\" x2=\"44\" y2=\"64\" />\n",
       "  <line x1=\"46\" y1=\"36\" x2=\"46\" y2=\"66\" />\n",
       "  <line x1=\"50\" y1=\"40\" x2=\"50\" y2=\"70\" />\n",
       "  <line x1=\"54\" y1=\"44\" x2=\"54\" y2=\"74\" />\n",
       "  <line x1=\"57\" y1=\"47\" x2=\"57\" y2=\"77\" />\n",
       "  <line x1=\"62\" y1=\"52\" x2=\"62\" y2=\"82\" />\n",
       "  <line x1=\"65\" y1=\"55\" x2=\"65\" y2=\"85\" />\n",
       "  <line x1=\"70\" y1=\"60\" x2=\"70\" y2=\"90\" />\n",
       "  <line x1=\"73\" y1=\"63\" x2=\"73\" y2=\"93\" />\n",
       "  <line x1=\"77\" y1=\"67\" x2=\"77\" y2=\"97\" />\n",
       "  <line x1=\"80\" y1=\"70\" x2=\"80\" y2=\"100\" style=\"stroke-width:2\" />\n",
       "\n",
       "  <!-- Colored Rectangle -->\n",
       "  <polygon points=\"10.0,0.0 80.58823529411765,70.58823529411765 80.58823529411765,100.62976726023345 10.0,30.041531966115794\" style=\"fill:#8B4903A0;stroke-width:0\"/>\n",
       "\n",
       "  <!-- Horizontal lines -->\n",
       "  <line x1=\"10\" y1=\"0\" x2=\"123\" y2=\"0\" style=\"stroke-width:2\" />\n",
       "  <line x1=\"12\" y1=\"2\" x2=\"125\" y2=\"2\" />\n",
       "  <line x1=\"17\" y1=\"7\" x2=\"130\" y2=\"7\" />\n",
       "  <line x1=\"20\" y1=\"10\" x2=\"133\" y2=\"10\" />\n",
       "  <line x1=\"25\" y1=\"15\" x2=\"138\" y2=\"15\" />\n",
       "  <line x1=\"28\" y1=\"18\" x2=\"142\" y2=\"18\" />\n",
       "  <line x1=\"33\" y1=\"23\" x2=\"146\" y2=\"23\" />\n",
       "  <line x1=\"36\" y1=\"26\" x2=\"149\" y2=\"26\" />\n",
       "  <line x1=\"41\" y1=\"31\" x2=\"154\" y2=\"31\" />\n",
       "  <line x1=\"44\" y1=\"34\" x2=\"157\" y2=\"34\" />\n",
       "  <line x1=\"46\" y1=\"36\" x2=\"160\" y2=\"36\" />\n",
       "  <line x1=\"50\" y1=\"40\" x2=\"163\" y2=\"40\" />\n",
       "  <line x1=\"54\" y1=\"44\" x2=\"168\" y2=\"44\" />\n",
       "  <line x1=\"57\" y1=\"47\" x2=\"171\" y2=\"47\" />\n",
       "  <line x1=\"62\" y1=\"52\" x2=\"175\" y2=\"52\" />\n",
       "  <line x1=\"65\" y1=\"55\" x2=\"178\" y2=\"55\" />\n",
       "  <line x1=\"70\" y1=\"60\" x2=\"183\" y2=\"60\" />\n",
       "  <line x1=\"73\" y1=\"63\" x2=\"186\" y2=\"63\" />\n",
       "  <line x1=\"77\" y1=\"67\" x2=\"191\" y2=\"67\" />\n",
       "  <line x1=\"80\" y1=\"70\" x2=\"193\" y2=\"70\" style=\"stroke-width:2\" />\n",
       "\n",
       "  <!-- Vertical lines -->\n",
       "  <line x1=\"10\" y1=\"0\" x2=\"80\" y2=\"70\" style=\"stroke-width:2\" />\n",
       "  <line x1=\"14\" y1=\"0\" x2=\"84\" y2=\"70\" />\n",
       "  <line x1=\"22\" y1=\"0\" x2=\"92\" y2=\"70\" />\n",
       "  <line x1=\"26\" y1=\"0\" x2=\"96\" y2=\"70\" />\n",
       "  <line x1=\"34\" y1=\"0\" x2=\"104\" y2=\"70\" />\n",
       "  <line x1=\"38\" y1=\"0\" x2=\"108\" y2=\"70\" />\n",
       "  <line x1=\"46\" y1=\"0\" x2=\"116\" y2=\"70\" />\n",
       "  <line x1=\"50\" y1=\"0\" x2=\"120\" y2=\"70\" />\n",
       "  <line x1=\"58\" y1=\"0\" x2=\"128\" y2=\"70\" />\n",
       "  <line x1=\"62\" y1=\"0\" x2=\"132\" y2=\"70\" />\n",
       "  <line x1=\"70\" y1=\"0\" x2=\"140\" y2=\"70\" />\n",
       "  <line x1=\"74\" y1=\"0\" x2=\"144\" y2=\"70\" />\n",
       "  <line x1=\"82\" y1=\"0\" x2=\"152\" y2=\"70\" />\n",
       "  <line x1=\"86\" y1=\"0\" x2=\"156\" y2=\"70\" />\n",
       "  <line x1=\"94\" y1=\"0\" x2=\"164\" y2=\"70\" />\n",
       "  <line x1=\"98\" y1=\"0\" x2=\"168\" y2=\"70\" />\n",
       "  <line x1=\"106\" y1=\"0\" x2=\"176\" y2=\"70\" />\n",
       "  <line x1=\"110\" y1=\"0\" x2=\"180\" y2=\"70\" />\n",
       "  <line x1=\"118\" y1=\"0\" x2=\"189\" y2=\"70\" />\n",
       "  <line x1=\"123\" y1=\"0\" x2=\"193\" y2=\"70\" style=\"stroke-width:2\" />\n",
       "\n",
       "  <!-- Colored Rectangle -->\n",
       "  <polygon points=\"10.0,0.0 123.31695331695333,0.0 193.90518861107097,70.58823529411765 80.58823529411765,70.58823529411765\" style=\"fill:#8B4903A0;stroke-width:0\"/>\n",
       "\n",
       "  <!-- Horizontal lines -->\n",
       "  <line x1=\"80\" y1=\"70\" x2=\"193\" y2=\"70\" style=\"stroke-width:2\" />\n",
       "  <line x1=\"80\" y1=\"100\" x2=\"193\" y2=\"100\" style=\"stroke-width:2\" />\n",
       "\n",
       "  <!-- Vertical lines -->\n",
       "  <line x1=\"80\" y1=\"70\" x2=\"80\" y2=\"100\" style=\"stroke-width:2\" />\n",
       "  <line x1=\"84\" y1=\"70\" x2=\"84\" y2=\"100\" />\n",
       "  <line x1=\"92\" y1=\"70\" x2=\"92\" y2=\"100\" />\n",
       "  <line x1=\"96\" y1=\"70\" x2=\"96\" y2=\"100\" />\n",
       "  <line x1=\"104\" y1=\"70\" x2=\"104\" y2=\"100\" />\n",
       "  <line x1=\"108\" y1=\"70\" x2=\"108\" y2=\"100\" />\n",
       "  <line x1=\"116\" y1=\"70\" x2=\"116\" y2=\"100\" />\n",
       "  <line x1=\"120\" y1=\"70\" x2=\"120\" y2=\"100\" />\n",
       "  <line x1=\"128\" y1=\"70\" x2=\"128\" y2=\"100\" />\n",
       "  <line x1=\"132\" y1=\"70\" x2=\"132\" y2=\"100\" />\n",
       "  <line x1=\"140\" y1=\"70\" x2=\"140\" y2=\"100\" />\n",
       "  <line x1=\"144\" y1=\"70\" x2=\"144\" y2=\"100\" />\n",
       "  <line x1=\"152\" y1=\"70\" x2=\"152\" y2=\"100\" />\n",
       "  <line x1=\"156\" y1=\"70\" x2=\"156\" y2=\"100\" />\n",
       "  <line x1=\"164\" y1=\"70\" x2=\"164\" y2=\"100\" />\n",
       "  <line x1=\"168\" y1=\"70\" x2=\"168\" y2=\"100\" />\n",
       "  <line x1=\"176\" y1=\"70\" x2=\"176\" y2=\"100\" />\n",
       "  <line x1=\"180\" y1=\"70\" x2=\"180\" y2=\"100\" />\n",
       "  <line x1=\"189\" y1=\"70\" x2=\"189\" y2=\"100\" />\n",
       "  <line x1=\"193\" y1=\"70\" x2=\"193\" y2=\"100\" style=\"stroke-width:2\" />\n",
       "\n",
       "  <!-- Colored Rectangle -->\n",
       "  <polygon points=\"80.58823529411765,70.58823529411765 193.90518861107097,70.58823529411765 193.90518861107097,100.62976726023345 80.58823529411765,100.62976726023345\" style=\"fill:#8B4903A0;stroke-width:0\"/>\n",
       "\n",
       "  <!-- Text -->\n",
       "  <text x=\"137.246712\" y=\"120.629767\" font-size=\"1.0rem\" font-weight=\"100\" text-anchor=\"middle\" >8071</text>\n",
       "  <text x=\"213.905189\" y=\"85.609001\" font-size=\"1.0rem\" font-weight=\"100\" text-anchor=\"middle\" transform=\"rotate(-90,213.905189,85.609001)\">204</text>\n",
       "  <text x=\"35.294118\" y=\"85.335650\" font-size=\"1.0rem\" font-weight=\"100\" text-anchor=\"middle\" transform=\"rotate(45,35.294118,85.335650)\">8547</text>\n",
       "</svg>\n",
       "        </td>\n",
       "    </tr>\n",
       "</table>"
      ],
      "text/plain": [
       "dask.array<concatenate, shape=(8547, 204, 8071), dtype=float64, chunksize=(286, 204, 286), chunktype=numpy.ndarray>"
      ]
     },
     "execution_count": 17,
     "metadata": {},
     "output_type": "execute_result"
    }
   ],
   "source": [
    "large_dask_array"
   ]
  },
  {
   "cell_type": "code",
   "execution_count": 18,
   "metadata": {},
   "outputs": [
    {
     "name": "stdout",
     "output_type": "stream",
     "text": [
      "Estimated memory usage in bytes: 112579989984\n"
     ]
    }
   ],
   "source": [
    "memory_usage_bytes = large_dask_array.size * large_dask_array.dtype.itemsize\n",
    "print(\"Estimated memory usage in bytes:\", memory_usage_bytes)"
   ]
  },
  {
   "cell_type": "code",
   "execution_count": 22,
   "metadata": {},
   "outputs": [
    {
     "name": "stdout",
     "output_type": "stream",
     "text": [
      "Minimum samples per class needed: 13\n"
     ]
    }
   ],
   "source": [
    "label_counts = {}\n",
    "\n",
    "# Assuming file naming as 'data_xx_y.npy' for labels\n",
    "for i in range(1, 16):  # 15 files as per your description\n",
    "    labels = np.load(f'mtg-jamendo-dataset/prepare_data/data_{i:02d}_y.npy', allow_pickle=True)\n",
    "    unique, counts = np.unique(labels, return_counts=True)\n",
    "    for label, count in zip(unique, counts):\n",
    "        if label in label_counts:\n",
    "            label_counts[label] += count\n",
    "        else:\n",
    "            label_counts[label] = count\n",
    "\n",
    "# Find the minimum count to balance the dataset\n",
    "min_count = min(label_counts.values())\n",
    "print(\"Minimum samples per class needed:\", min_count)"
   ]
  },
  {
   "cell_type": "code",
   "execution_count": 31,
   "metadata": {},
   "outputs": [
    {
     "data": {
      "text/plain": [
       "dict_values([328, 288, 503, 348, 368, 239, 309, 283, 418, 187, 179, 218, 878, 462, 220, 205, 150, 606, 608, 839, 375, 691, 247, 69, 115, 96, 557, 78, 13, 57, 74, 143, 431, 364, 152, 44, 583, 48, 96, 65, 107, 69, 38, 440, 70, 127, 243, 40, 100, 44, 228, 201, 62, 61, 29, 57, 73, 65, 32])"
      ]
     },
     "execution_count": 31,
     "metadata": {},
     "output_type": "execute_result"
    }
   ],
   "source": [
    "label_counts.values()"
   ]
  },
  {
   "cell_type": "code",
   "execution_count": 32,
   "metadata": {},
   "outputs": [
    {
     "data": {
      "text/plain": [
       "{0: 328,\n",
       " 1: 288,\n",
       " 2: 503,\n",
       " 3: 348,\n",
       " 4: 368,\n",
       " 5: 239,\n",
       " 6: 309,\n",
       " 7: 283,\n",
       " 8: 418,\n",
       " 9: 187,\n",
       " 10: 179,\n",
       " 11: 218,\n",
       " 12: 878,\n",
       " 13: 462,\n",
       " 14: 220,\n",
       " 15: 205,\n",
       " 16: 150,\n",
       " 17: 606,\n",
       " 18: 608,\n",
       " 19: 839,\n",
       " 20: 375,\n",
       " 22: 691,\n",
       " 23: 247,\n",
       " 24: 69,\n",
       " 25: 115,\n",
       " 26: 96,\n",
       " 27: 557,\n",
       " 28: 78,\n",
       " 29: 13,\n",
       " 30: 57,\n",
       " 31: 74,\n",
       " 32: 143,\n",
       " 33: 431,\n",
       " 34: 364,\n",
       " 35: 152,\n",
       " 36: 44,\n",
       " 37: 583,\n",
       " 38: 48,\n",
       " 39: 96,\n",
       " 40: 65,\n",
       " 41: 107,\n",
       " 42: 69,\n",
       " 43: 38,\n",
       " 44: 440,\n",
       " 45: 70,\n",
       " 46: 127,\n",
       " 47: 243,\n",
       " 48: 40,\n",
       " 49: 100,\n",
       " 50: 44,\n",
       " 51: 228,\n",
       " 52: 201,\n",
       " 53: 62,\n",
       " 54: 61,\n",
       " 55: 29,\n",
       " 57: 57,\n",
       " 58: 73,\n",
       " 21: 65,\n",
       " 56: 32}"
      ]
     },
     "execution_count": 32,
     "metadata": {},
     "output_type": "execute_result"
    }
   ],
   "source": [
    "label_counts"
   ]
  },
  {
   "cell_type": "markdown",
   "metadata": {},
   "source": [
    "## Issues\n",
    "\n",
    "1. We have 15 .npy files for X and 15 corresponding .npy files for y. However, we can't apply np.load to successfully load these files due to their large RAM usage.\n",
    "\n",
    "    solution: right now, each .npy file is roughly in the size (900, 204, 8071). Try with the first .npy generating process, to make the .npy file in the size (900, 204, 1000) to see what might happen."
   ]
  }
 ],
 "metadata": {
  "kernelspec": {
   "display_name": "dmdata",
   "language": "python",
   "name": "python3"
  },
  "language_info": {
   "codemirror_mode": {
    "name": "ipython",
    "version": 3
   },
   "file_extension": ".py",
   "mimetype": "text/x-python",
   "name": "python",
   "nbconvert_exporter": "python",
   "pygments_lexer": "ipython3",
   "version": "3.10.13"
  }
 },
 "nbformat": 4,
 "nbformat_minor": 2
}
